{
  "nbformat": 4,
  "nbformat_minor": 0,
  "metadata": {
    "colab": {
      "provenance": []
    },
    "kernelspec": {
      "name": "python3",
      "display_name": "Python 3"
    },
    "language_info": {
      "name": "python"
    }
  },
  "cells": [
    {
      "cell_type": "code",
      "execution_count": 79,
      "metadata": {
        "colab": {
          "base_uri": "https://localhost:8080/"
        },
        "id": "j0_tmJZlD8al",
        "outputId": "d62a240e-0af7-421a-cbaa-61271ee72eae"
      },
      "outputs": [
        {
          "output_type": "stream",
          "name": "stdout",
          "text": [
            "Drive already mounted at /content/drive; to attempt to forcibly remount, call drive.mount(\"/content/drive\", force_remount=True).\n"
          ]
        }
      ],
      "source": [
        "from google.colab import drive\n",
        "drive.mount('/content/drive')"
      ]
    },
    {
      "cell_type": "code",
      "source": [
        "import pandas as pd\n",
        "import numpy as np\n",
        "from sklearn.tree import DecisionTreeClassifier\n",
        "from sklearn.neighbors import KNeighborsClassifier\n",
        "from sklearn.linear_model import LogisticRegression\n",
        "from sklearn.ensemble import AdaBoostClassifier, BaggingClassifier\n",
        "from sklearn.model_selection import train_test_split, cross_val_score\n",
        "from sklearn.pipeline import Pipeline\n",
        "from sklearn.metrics import accuracy_score, classification_report, confusion_matrix, roc_auc_score\n",
        "import matplotlib.pyplot as plt\n",
        "import seaborn as sns\n",
        "from sklearn.preprocessing import OneHotEncoder"
      ],
      "metadata": {
        "id": "I3VeAgDwPd5v"
      },
      "execution_count": null,
      "outputs": []
    },
    {
      "cell_type": "code",
      "source": [
        "# Load the dataset from a CSV file\n",
        "dataset = '/content/drive/MyDrive/new_dataset/soybean_small.csv'\n",
        "column_names = [\n",
        "    'date', 'plant-stand', 'precip', 'temp', 'hail', 'crop-hist', 'area-damaged',\n",
        "    'severity', 'seed-tmt', 'germination', 'plant-growth', 'leaves', 'leafspots-halo',\n",
        "    'leafspots-marg', 'leafspot-size', 'leaf-shread', 'leaf-malf', 'leaf-mild', 'stem',\n",
        "    'lodging', 'stem-cankers', 'canker-lesion', 'fruiting-bodies', 'external-decay',\n",
        "    'mycelium', 'int-discolor', 'sclerotia', 'fruit-pods', 'fruit-spots', 'seed',\n",
        "    'mold-growth', 'seed-discolor', 'seed-size', 'shriveling', 'roots', 'class'\n",
        "]\n",
        "dataset = pd.read_csv(dataset, header=None, names=column_names)\n",
        "X = dataset[['seed', 'plant-stand', 'germination']]\n",
        "y = dataset[['class']]\n",
        "\n",
        "\n",
        "dataset.head()\n"
      ],
      "metadata": {
        "colab": {
          "base_uri": "https://localhost:8080/",
          "height": 273
        },
        "id": "RzJLKjmpSwKy",
        "outputId": "8a80972e-7b3c-4ead-e1fc-7a1011c66d45"
      },
      "execution_count": null,
      "outputs": [
        {
          "output_type": "execute_result",
          "data": {
            "text/plain": [
              "      date plant-stand   precip     temp     hail crop-hist area-damaged  \\\n",
              "0  Column1     Column2  Column3  Column4  Column5   Column6      Column7   \n",
              "1        4           0        2        1        1         1            0   \n",
              "2        5           0        2        1        0         3            1   \n",
              "3        3           0        2        1        0         2            0   \n",
              "4        6           0        2        1        0         1            1   \n",
              "\n",
              "  severity seed-tmt germination  ... sclerotia fruit-pods fruit-spots  \\\n",
              "0  Column8  Column9    Column10  ...  Column27   Column28    Column29   \n",
              "1        1        0           2  ...         0          0           4   \n",
              "2        1        1           2  ...         0          0           4   \n",
              "3        2        1           1  ...         0          0           4   \n",
              "4        1        0           0  ...         0          0           4   \n",
              "\n",
              "       seed mold-growth seed-discolor seed-size shriveling     roots     class  \n",
              "0  Column30    Column31      Column32  Column33   Column34  Column35  Column36  \n",
              "1         0           0             0         0          0         0        D1  \n",
              "2         0           0             0         0          0         0        D1  \n",
              "3         0           0             0         0          0         0        D1  \n",
              "4         0           0             0         0          0         0        D1  \n",
              "\n",
              "[5 rows x 36 columns]"
            ],
            "text/html": [
              "\n",
              "  <div id=\"df-49dda0d9-2777-4d61-9dea-b21d03c80665\" class=\"colab-df-container\">\n",
              "    <div>\n",
              "<style scoped>\n",
              "    .dataframe tbody tr th:only-of-type {\n",
              "        vertical-align: middle;\n",
              "    }\n",
              "\n",
              "    .dataframe tbody tr th {\n",
              "        vertical-align: top;\n",
              "    }\n",
              "\n",
              "    .dataframe thead th {\n",
              "        text-align: right;\n",
              "    }\n",
              "</style>\n",
              "<table border=\"1\" class=\"dataframe\">\n",
              "  <thead>\n",
              "    <tr style=\"text-align: right;\">\n",
              "      <th></th>\n",
              "      <th>date</th>\n",
              "      <th>plant-stand</th>\n",
              "      <th>precip</th>\n",
              "      <th>temp</th>\n",
              "      <th>hail</th>\n",
              "      <th>crop-hist</th>\n",
              "      <th>area-damaged</th>\n",
              "      <th>severity</th>\n",
              "      <th>seed-tmt</th>\n",
              "      <th>germination</th>\n",
              "      <th>...</th>\n",
              "      <th>sclerotia</th>\n",
              "      <th>fruit-pods</th>\n",
              "      <th>fruit-spots</th>\n",
              "      <th>seed</th>\n",
              "      <th>mold-growth</th>\n",
              "      <th>seed-discolor</th>\n",
              "      <th>seed-size</th>\n",
              "      <th>shriveling</th>\n",
              "      <th>roots</th>\n",
              "      <th>class</th>\n",
              "    </tr>\n",
              "  </thead>\n",
              "  <tbody>\n",
              "    <tr>\n",
              "      <th>0</th>\n",
              "      <td>Column1</td>\n",
              "      <td>Column2</td>\n",
              "      <td>Column3</td>\n",
              "      <td>Column4</td>\n",
              "      <td>Column5</td>\n",
              "      <td>Column6</td>\n",
              "      <td>Column7</td>\n",
              "      <td>Column8</td>\n",
              "      <td>Column9</td>\n",
              "      <td>Column10</td>\n",
              "      <td>...</td>\n",
              "      <td>Column27</td>\n",
              "      <td>Column28</td>\n",
              "      <td>Column29</td>\n",
              "      <td>Column30</td>\n",
              "      <td>Column31</td>\n",
              "      <td>Column32</td>\n",
              "      <td>Column33</td>\n",
              "      <td>Column34</td>\n",
              "      <td>Column35</td>\n",
              "      <td>Column36</td>\n",
              "    </tr>\n",
              "    <tr>\n",
              "      <th>1</th>\n",
              "      <td>4</td>\n",
              "      <td>0</td>\n",
              "      <td>2</td>\n",
              "      <td>1</td>\n",
              "      <td>1</td>\n",
              "      <td>1</td>\n",
              "      <td>0</td>\n",
              "      <td>1</td>\n",
              "      <td>0</td>\n",
              "      <td>2</td>\n",
              "      <td>...</td>\n",
              "      <td>0</td>\n",
              "      <td>0</td>\n",
              "      <td>4</td>\n",
              "      <td>0</td>\n",
              "      <td>0</td>\n",
              "      <td>0</td>\n",
              "      <td>0</td>\n",
              "      <td>0</td>\n",
              "      <td>0</td>\n",
              "      <td>D1</td>\n",
              "    </tr>\n",
              "    <tr>\n",
              "      <th>2</th>\n",
              "      <td>5</td>\n",
              "      <td>0</td>\n",
              "      <td>2</td>\n",
              "      <td>1</td>\n",
              "      <td>0</td>\n",
              "      <td>3</td>\n",
              "      <td>1</td>\n",
              "      <td>1</td>\n",
              "      <td>1</td>\n",
              "      <td>2</td>\n",
              "      <td>...</td>\n",
              "      <td>0</td>\n",
              "      <td>0</td>\n",
              "      <td>4</td>\n",
              "      <td>0</td>\n",
              "      <td>0</td>\n",
              "      <td>0</td>\n",
              "      <td>0</td>\n",
              "      <td>0</td>\n",
              "      <td>0</td>\n",
              "      <td>D1</td>\n",
              "    </tr>\n",
              "    <tr>\n",
              "      <th>3</th>\n",
              "      <td>3</td>\n",
              "      <td>0</td>\n",
              "      <td>2</td>\n",
              "      <td>1</td>\n",
              "      <td>0</td>\n",
              "      <td>2</td>\n",
              "      <td>0</td>\n",
              "      <td>2</td>\n",
              "      <td>1</td>\n",
              "      <td>1</td>\n",
              "      <td>...</td>\n",
              "      <td>0</td>\n",
              "      <td>0</td>\n",
              "      <td>4</td>\n",
              "      <td>0</td>\n",
              "      <td>0</td>\n",
              "      <td>0</td>\n",
              "      <td>0</td>\n",
              "      <td>0</td>\n",
              "      <td>0</td>\n",
              "      <td>D1</td>\n",
              "    </tr>\n",
              "    <tr>\n",
              "      <th>4</th>\n",
              "      <td>6</td>\n",
              "      <td>0</td>\n",
              "      <td>2</td>\n",
              "      <td>1</td>\n",
              "      <td>0</td>\n",
              "      <td>1</td>\n",
              "      <td>1</td>\n",
              "      <td>1</td>\n",
              "      <td>0</td>\n",
              "      <td>0</td>\n",
              "      <td>...</td>\n",
              "      <td>0</td>\n",
              "      <td>0</td>\n",
              "      <td>4</td>\n",
              "      <td>0</td>\n",
              "      <td>0</td>\n",
              "      <td>0</td>\n",
              "      <td>0</td>\n",
              "      <td>0</td>\n",
              "      <td>0</td>\n",
              "      <td>D1</td>\n",
              "    </tr>\n",
              "  </tbody>\n",
              "</table>\n",
              "<p>5 rows × 36 columns</p>\n",
              "</div>\n",
              "    <div class=\"colab-df-buttons\">\n",
              "\n",
              "  <div class=\"colab-df-container\">\n",
              "    <button class=\"colab-df-convert\" onclick=\"convertToInteractive('df-49dda0d9-2777-4d61-9dea-b21d03c80665')\"\n",
              "            title=\"Convert this dataframe to an interactive table.\"\n",
              "            style=\"display:none;\">\n",
              "\n",
              "  <svg xmlns=\"http://www.w3.org/2000/svg\" height=\"24px\" viewBox=\"0 -960 960 960\">\n",
              "    <path d=\"M120-120v-720h720v720H120Zm60-500h600v-160H180v160Zm220 220h160v-160H400v160Zm0 220h160v-160H400v160ZM180-400h160v-160H180v160Zm440 0h160v-160H620v160ZM180-180h160v-160H180v160Zm440 0h160v-160H620v160Z\"/>\n",
              "  </svg>\n",
              "    </button>\n",
              "\n",
              "  <style>\n",
              "    .colab-df-container {\n",
              "      display:flex;\n",
              "      gap: 12px;\n",
              "    }\n",
              "\n",
              "    .colab-df-convert {\n",
              "      background-color: #E8F0FE;\n",
              "      border: none;\n",
              "      border-radius: 50%;\n",
              "      cursor: pointer;\n",
              "      display: none;\n",
              "      fill: #1967D2;\n",
              "      height: 32px;\n",
              "      padding: 0 0 0 0;\n",
              "      width: 32px;\n",
              "    }\n",
              "\n",
              "    .colab-df-convert:hover {\n",
              "      background-color: #E2EBFA;\n",
              "      box-shadow: 0px 1px 2px rgba(60, 64, 67, 0.3), 0px 1px 3px 1px rgba(60, 64, 67, 0.15);\n",
              "      fill: #174EA6;\n",
              "    }\n",
              "\n",
              "    .colab-df-buttons div {\n",
              "      margin-bottom: 4px;\n",
              "    }\n",
              "\n",
              "    [theme=dark] .colab-df-convert {\n",
              "      background-color: #3B4455;\n",
              "      fill: #D2E3FC;\n",
              "    }\n",
              "\n",
              "    [theme=dark] .colab-df-convert:hover {\n",
              "      background-color: #434B5C;\n",
              "      box-shadow: 0px 1px 3px 1px rgba(0, 0, 0, 0.15);\n",
              "      filter: drop-shadow(0px 1px 2px rgba(0, 0, 0, 0.3));\n",
              "      fill: #FFFFFF;\n",
              "    }\n",
              "  </style>\n",
              "\n",
              "    <script>\n",
              "      const buttonEl =\n",
              "        document.querySelector('#df-49dda0d9-2777-4d61-9dea-b21d03c80665 button.colab-df-convert');\n",
              "      buttonEl.style.display =\n",
              "        google.colab.kernel.accessAllowed ? 'block' : 'none';\n",
              "\n",
              "      async function convertToInteractive(key) {\n",
              "        const element = document.querySelector('#df-49dda0d9-2777-4d61-9dea-b21d03c80665');\n",
              "        const dataTable =\n",
              "          await google.colab.kernel.invokeFunction('convertToInteractive',\n",
              "                                                    [key], {});\n",
              "        if (!dataTable) return;\n",
              "\n",
              "        const docLinkHtml = 'Like what you see? Visit the ' +\n",
              "          '<a target=\"_blank\" href=https://colab.research.google.com/notebooks/data_table.ipynb>data table notebook</a>'\n",
              "          + ' to learn more about interactive tables.';\n",
              "        element.innerHTML = '';\n",
              "        dataTable['output_type'] = 'display_data';\n",
              "        await google.colab.output.renderOutput(dataTable, element);\n",
              "        const docLink = document.createElement('div');\n",
              "        docLink.innerHTML = docLinkHtml;\n",
              "        element.appendChild(docLink);\n",
              "      }\n",
              "    </script>\n",
              "  </div>\n",
              "\n",
              "\n",
              "<div id=\"df-71ee250e-3ac5-4de8-b161-2f5b856b8e10\">\n",
              "  <button class=\"colab-df-quickchart\" onclick=\"quickchart('df-71ee250e-3ac5-4de8-b161-2f5b856b8e10')\"\n",
              "            title=\"Suggest charts\"\n",
              "            style=\"display:none;\">\n",
              "\n",
              "<svg xmlns=\"http://www.w3.org/2000/svg\" height=\"24px\"viewBox=\"0 0 24 24\"\n",
              "     width=\"24px\">\n",
              "    <g>\n",
              "        <path d=\"M19 3H5c-1.1 0-2 .9-2 2v14c0 1.1.9 2 2 2h14c1.1 0 2-.9 2-2V5c0-1.1-.9-2-2-2zM9 17H7v-7h2v7zm4 0h-2V7h2v10zm4 0h-2v-4h2v4z\"/>\n",
              "    </g>\n",
              "</svg>\n",
              "  </button>\n",
              "\n",
              "<style>\n",
              "  .colab-df-quickchart {\n",
              "      --bg-color: #E8F0FE;\n",
              "      --fill-color: #1967D2;\n",
              "      --hover-bg-color: #E2EBFA;\n",
              "      --hover-fill-color: #174EA6;\n",
              "      --disabled-fill-color: #AAA;\n",
              "      --disabled-bg-color: #DDD;\n",
              "  }\n",
              "\n",
              "  [theme=dark] .colab-df-quickchart {\n",
              "      --bg-color: #3B4455;\n",
              "      --fill-color: #D2E3FC;\n",
              "      --hover-bg-color: #434B5C;\n",
              "      --hover-fill-color: #FFFFFF;\n",
              "      --disabled-bg-color: #3B4455;\n",
              "      --disabled-fill-color: #666;\n",
              "  }\n",
              "\n",
              "  .colab-df-quickchart {\n",
              "    background-color: var(--bg-color);\n",
              "    border: none;\n",
              "    border-radius: 50%;\n",
              "    cursor: pointer;\n",
              "    display: none;\n",
              "    fill: var(--fill-color);\n",
              "    height: 32px;\n",
              "    padding: 0;\n",
              "    width: 32px;\n",
              "  }\n",
              "\n",
              "  .colab-df-quickchart:hover {\n",
              "    background-color: var(--hover-bg-color);\n",
              "    box-shadow: 0 1px 2px rgba(60, 64, 67, 0.3), 0 1px 3px 1px rgba(60, 64, 67, 0.15);\n",
              "    fill: var(--button-hover-fill-color);\n",
              "  }\n",
              "\n",
              "  .colab-df-quickchart-complete:disabled,\n",
              "  .colab-df-quickchart-complete:disabled:hover {\n",
              "    background-color: var(--disabled-bg-color);\n",
              "    fill: var(--disabled-fill-color);\n",
              "    box-shadow: none;\n",
              "  }\n",
              "\n",
              "  .colab-df-spinner {\n",
              "    border: 2px solid var(--fill-color);\n",
              "    border-color: transparent;\n",
              "    border-bottom-color: var(--fill-color);\n",
              "    animation:\n",
              "      spin 1s steps(1) infinite;\n",
              "  }\n",
              "\n",
              "  @keyframes spin {\n",
              "    0% {\n",
              "      border-color: transparent;\n",
              "      border-bottom-color: var(--fill-color);\n",
              "      border-left-color: var(--fill-color);\n",
              "    }\n",
              "    20% {\n",
              "      border-color: transparent;\n",
              "      border-left-color: var(--fill-color);\n",
              "      border-top-color: var(--fill-color);\n",
              "    }\n",
              "    30% {\n",
              "      border-color: transparent;\n",
              "      border-left-color: var(--fill-color);\n",
              "      border-top-color: var(--fill-color);\n",
              "      border-right-color: var(--fill-color);\n",
              "    }\n",
              "    40% {\n",
              "      border-color: transparent;\n",
              "      border-right-color: var(--fill-color);\n",
              "      border-top-color: var(--fill-color);\n",
              "    }\n",
              "    60% {\n",
              "      border-color: transparent;\n",
              "      border-right-color: var(--fill-color);\n",
              "    }\n",
              "    80% {\n",
              "      border-color: transparent;\n",
              "      border-right-color: var(--fill-color);\n",
              "      border-bottom-color: var(--fill-color);\n",
              "    }\n",
              "    90% {\n",
              "      border-color: transparent;\n",
              "      border-bottom-color: var(--fill-color);\n",
              "    }\n",
              "  }\n",
              "</style>\n",
              "\n",
              "  <script>\n",
              "    async function quickchart(key) {\n",
              "      const quickchartButtonEl =\n",
              "        document.querySelector('#' + key + ' button');\n",
              "      quickchartButtonEl.disabled = true;  // To prevent multiple clicks.\n",
              "      quickchartButtonEl.classList.add('colab-df-spinner');\n",
              "      try {\n",
              "        const charts = await google.colab.kernel.invokeFunction(\n",
              "            'suggestCharts', [key], {});\n",
              "      } catch (error) {\n",
              "        console.error('Error during call to suggestCharts:', error);\n",
              "      }\n",
              "      quickchartButtonEl.classList.remove('colab-df-spinner');\n",
              "      quickchartButtonEl.classList.add('colab-df-quickchart-complete');\n",
              "    }\n",
              "    (() => {\n",
              "      let quickchartButtonEl =\n",
              "        document.querySelector('#df-71ee250e-3ac5-4de8-b161-2f5b856b8e10 button');\n",
              "      quickchartButtonEl.style.display =\n",
              "        google.colab.kernel.accessAllowed ? 'block' : 'none';\n",
              "    })();\n",
              "  </script>\n",
              "</div>\n",
              "    </div>\n",
              "  </div>\n"
            ],
            "application/vnd.google.colaboratory.intrinsic+json": {
              "type": "dataframe",
              "variable_name": "dataset"
            }
          },
          "metadata": {},
          "execution_count": 9
        }
      ]
    },
    {
      "cell_type": "code",
      "source": [
        "print(dataset.info())"
      ],
      "metadata": {
        "colab": {
          "base_uri": "https://localhost:8080/"
        },
        "id": "-1Qi4CpeZUEA",
        "outputId": "d7caf25f-b176-4933-8397-9ad6ace74f03"
      },
      "execution_count": null,
      "outputs": [
        {
          "output_type": "stream",
          "name": "stdout",
          "text": [
            "<class 'pandas.core.frame.DataFrame'>\n",
            "RangeIndex: 48 entries, 0 to 47\n",
            "Data columns (total 36 columns):\n",
            " #   Column           Non-Null Count  Dtype \n",
            "---  ------           --------------  ----- \n",
            " 0   date             48 non-null     object\n",
            " 1   plant-stand      48 non-null     object\n",
            " 2   precip           48 non-null     object\n",
            " 3   temp             48 non-null     object\n",
            " 4   hail             48 non-null     object\n",
            " 5   crop-hist        48 non-null     object\n",
            " 6   area-damaged     48 non-null     object\n",
            " 7   severity         48 non-null     object\n",
            " 8   seed-tmt         48 non-null     object\n",
            " 9   germination      48 non-null     object\n",
            " 10  plant-growth     48 non-null     object\n",
            " 11  leaves           48 non-null     object\n",
            " 12  leafspots-halo   48 non-null     object\n",
            " 13  leafspots-marg   48 non-null     object\n",
            " 14  leafspot-size    48 non-null     object\n",
            " 15  leaf-shread      48 non-null     object\n",
            " 16  leaf-malf        48 non-null     object\n",
            " 17  leaf-mild        48 non-null     object\n",
            " 18  stem             48 non-null     object\n",
            " 19  lodging          48 non-null     object\n",
            " 20  stem-cankers     48 non-null     object\n",
            " 21  canker-lesion    48 non-null     object\n",
            " 22  fruiting-bodies  48 non-null     object\n",
            " 23  external-decay   48 non-null     object\n",
            " 24  mycelium         48 non-null     object\n",
            " 25  int-discolor     48 non-null     object\n",
            " 26  sclerotia        48 non-null     object\n",
            " 27  fruit-pods       48 non-null     object\n",
            " 28  fruit-spots      48 non-null     object\n",
            " 29  seed             48 non-null     object\n",
            " 30  mold-growth      48 non-null     object\n",
            " 31  seed-discolor    48 non-null     object\n",
            " 32  seed-size        48 non-null     object\n",
            " 33  shriveling       48 non-null     object\n",
            " 34  roots            48 non-null     object\n",
            " 35  class            48 non-null     object\n",
            "dtypes: object(36)\n",
            "memory usage: 13.6+ KB\n",
            "None\n"
          ]
        }
      ]
    },
    {
      "cell_type": "code",
      "source": [
        "print(dataset.describe())"
      ],
      "metadata": {
        "colab": {
          "base_uri": "https://localhost:8080/"
        },
        "id": "FvPrvoxlXaVU",
        "outputId": "dd3a01c4-58f5-4772-94a4-597e29fa3a8c"
      },
      "execution_count": null,
      "outputs": [
        {
          "output_type": "stream",
          "name": "stdout",
          "text": [
            "       date plant-stand precip temp hail crop-hist area-damaged severity  \\\n",
            "count    48          48     48   48   48        48           48       48   \n",
            "unique    8           3      4    4    3         5            5        3   \n",
            "top       0           1      2    1    0         3            1        1   \n",
            "freq     10          25     33   24   32        15           29       28   \n",
            "\n",
            "       seed-tmt germination  ... sclerotia fruit-pods fruit-spots seed  \\\n",
            "count        48          48  ...        48         48          48   48   \n",
            "unique        3           4  ...         3          3           2    2   \n",
            "top           0           2  ...         0          3           4    0   \n",
            "freq         24          19  ...        37         27          47   47   \n",
            "\n",
            "       mold-growth seed-discolor seed-size shriveling roots class  \n",
            "count           48            48        48         48    48    48  \n",
            "unique           2             2         2          2     3     5  \n",
            "top              0             0         0          0     0    D4  \n",
            "freq            47            47        47         47    29    17  \n",
            "\n",
            "[4 rows x 36 columns]\n"
          ]
        }
      ]
    },
    {
      "cell_type": "code",
      "source": [
        "print(dataset.columns)"
      ],
      "metadata": {
        "colab": {
          "base_uri": "https://localhost:8080/"
        },
        "id": "6J0Eii0nYye5",
        "outputId": "8730bd4e-a600-40cc-aec4-122089187214"
      },
      "execution_count": null,
      "outputs": [
        {
          "output_type": "stream",
          "name": "stdout",
          "text": [
            "Index(['date', 'plant-stand', 'precip', 'temp', 'hail', 'crop-hist',\n",
            "       'area-damaged', 'severity', 'seed-tmt', 'germination', 'plant-growth',\n",
            "       'leaves', 'leafspots-halo', 'leafspots-marg', 'leafspot-size',\n",
            "       'leaf-shread', 'leaf-malf', 'leaf-mild', 'stem', 'lodging',\n",
            "       'stem-cankers', 'canker-lesion', 'fruiting-bodies', 'external-decay',\n",
            "       'mycelium', 'int-discolor', 'sclerotia', 'fruit-pods', 'fruit-spots',\n",
            "       'seed', 'mold-growth', 'seed-discolor', 'seed-size', 'shriveling',\n",
            "       'roots', 'class'],\n",
            "      dtype='object')\n"
          ]
        }
      ]
    },
    {
      "cell_type": "code",
      "source": [
        "# Check for missing values and drop them\n",
        "dataset.dropna(inplace=True)\n",
        "# Look for missing values\n",
        "dataset.isna().sum()"
      ],
      "metadata": {
        "colab": {
          "base_uri": "https://localhost:8080/"
        },
        "id": "pxlU0XfdacuW",
        "outputId": "dc462ce1-e806-41c0-c997-bd5c5c4acdc9"
      },
      "execution_count": null,
      "outputs": [
        {
          "output_type": "execute_result",
          "data": {
            "text/plain": [
              "date               0\n",
              "plant-stand        0\n",
              "precip             0\n",
              "temp               0\n",
              "hail               0\n",
              "crop-hist          0\n",
              "area-damaged       0\n",
              "severity           0\n",
              "seed-tmt           0\n",
              "germination        0\n",
              "plant-growth       0\n",
              "leaves             0\n",
              "leafspots-halo     0\n",
              "leafspots-marg     0\n",
              "leafspot-size      0\n",
              "leaf-shread        0\n",
              "leaf-malf          0\n",
              "leaf-mild          0\n",
              "stem               0\n",
              "lodging            0\n",
              "stem-cankers       0\n",
              "canker-lesion      0\n",
              "fruiting-bodies    0\n",
              "external-decay     0\n",
              "mycelium           0\n",
              "int-discolor       0\n",
              "sclerotia          0\n",
              "fruit-pods         0\n",
              "fruit-spots        0\n",
              "seed               0\n",
              "mold-growth        0\n",
              "seed-discolor      0\n",
              "seed-size          0\n",
              "shriveling         0\n",
              "roots              0\n",
              "class              0\n",
              "dtype: int64"
            ]
          },
          "metadata": {},
          "execution_count": 13
        }
      ]
    },
    {
      "cell_type": "code",
      "source": [
        "#features and target\n",
        "X = dataset[['seed', 'plant-stand', 'germination']]\n",
        "y = dataset['class']"
      ],
      "metadata": {
        "id": "REswcQy7gU-C"
      },
      "execution_count": null,
      "outputs": []
    },
    {
      "cell_type": "code",
      "source": [
        "# Perform one-hot encoding on categorical features\n",
        "X_encoded = pd.get_dummies(X, drop_first=True)\n"
      ],
      "metadata": {
        "id": "xrjLllb8ezHG"
      },
      "execution_count": null,
      "outputs": []
    },
    {
      "cell_type": "code",
      "source": [
        "# Encode categorical variables using OneHotEncoder\n",
        "X = dataset.drop(columns=['seed', 'plant-stand', 'germination'])\n",
        "y = dataset['class']"
      ],
      "metadata": {
        "id": "KGi1izOUiT2B"
      },
      "execution_count": null,
      "outputs": []
    },
    {
      "cell_type": "code",
      "source": [
        "# Convert categorical variables to one-hot encoding\n",
        "X = pd.get_dummies(X)\n"
      ],
      "metadata": {
        "id": "0iTyXmtf0Ccw"
      },
      "execution_count": null,
      "outputs": []
    },
    {
      "cell_type": "code",
      "source": [
        "# Feature selection using Recursive Feature Elimination (RFE) with Logistic Regression\n",
        "log_reg = LogisticRegression(max_iter=1000)\n",
        "rfe = RFE(log_reg, n_features_to_select=4)\n"
      ],
      "metadata": {
        "id": "M8VspvPAqcXa"
      },
      "execution_count": null,
      "outputs": []
    },
    {
      "cell_type": "code",
      "source": [
        "from sklearn.model_selection import train_test_split\n",
        "from sklearn.preprocessing import StandardScaler\n",
        "from sklearn.feature_selection import RFE\n",
        "from sklearn.linear_model import LogisticRegression\n",
        "import pandas as pd\n",
        "\n",
        "# Load the dataset\n",
        "url = \"https://archive.ics.uci.edu/ml/machine-learning-databases/soybean/soybean-small.data\"\n",
        "column_names = [\n",
        "    \"date\", \"plant-stand\", \"precip\", \"temp\", \"hail\", \"crop-hist\", \"area-damaged\",\n",
        "    \"severity\", \"seed-tmt\", \"germination\", \"plant-growth\", \"leaves\", \"leafspots-halo\",\n",
        "    \"leafspots-marg\", \"leafspot-size\", \"leaf-shread\", \"leaf-malf\", \"leaf-mild\",\n",
        "    \"stem\", \"lodging\", \"stem-cankers\", \"canker-lesion\", \"fruiting-bodies\", \"external decay\",\n",
        "    \"mycelium\", \"int-discolor\", \"sclerotia\", \"fruit-pods\", \"fruit spots\", \"seed\",\n",
        "    \"mold-growth\", \"seed-discolor\", \"seed-size\", \"shriveling\", \"roots\", \"class\"\n",
        "]\n",
        "df = pd.read_csv(url, names=column_names)\n",
        "\n",
        "# Separate features and target variable\n",
        "X = df.drop('class', axis=1)\n",
        "y = df['class']\n",
        "\n",
        "# Split the data into train and test sets\n",
        "X_train, X_test, y_train, y_test = train_test_split(X, y, test_size=0.3, random_state=42)\n",
        "\n",
        "# Standardize features\n",
        "scaler = StandardScaler()\n",
        "X_train_scaled = scaler.fit_transform(X_train)\n",
        "X_test_scaled = scaler.transform(X_test)\n",
        "\n",
        "# Feature selection using Recursive Feature Elimination (RFE) with Logistic Regression\n",
        "log_reg = LogisticRegression(max_iter=1000)\n",
        "rfe = RFE(log_reg, n_features_to_select=4)\n",
        "rfe.fit(X_train_scaled, y_train)\n",
        "selected_features = X.columns[rfe.support_]\n",
        "print(f\"Selected features: {selected_features}\")\n",
        "\n",
        "# Select only the selected features for train and test sets\n",
        "X_train_selected = X_train[selected_features]\n",
        "X_test_selected = X_test[selected_features]\n",
        "\n",
        "# Standardize the selected features\n",
        "X_train_selected_scaled = scaler.fit_transform(X_train_selected)\n",
        "X_test_selected_scaled = scaler.transform(X_test_selected)\n",
        "\n",
        "# Now you can proceed with training your model or further analysis using the selected features.\n"
      ],
      "metadata": {
        "colab": {
          "base_uri": "https://localhost:8080/"
        },
        "id": "Rc25nTBju2o8",
        "outputId": "acb0453f-b115-46d3-8f3b-270a430e8b2d"
      },
      "execution_count": null,
      "outputs": [
        {
          "output_type": "stream",
          "name": "stdout",
          "text": [
            "Selected features: Index(['leaves', 'fruiting-bodies', 'sclerotia', 'roots'], dtype='object')\n"
          ]
        }
      ]
    },
    {
      "cell_type": "code",
      "source": [
        "# Define classifiers\n",
        "classifiers = {\n",
        "    'Decision Tree': DecisionTreeClassifier(),\n",
        "    'K-Nearest Neighbors': KNeighborsClassifier(),\n",
        "    'Logistic Regression': LogisticRegression(),\n",
        "    'AdaBoost': AdaBoostClassifier(),\n",
        "    'Bagging': BaggingClassifier()\n",
        "}"
      ],
      "metadata": {
        "id": "ZLlu2xa7u9Qj"
      },
      "execution_count": null,
      "outputs": []
    },
    {
      "cell_type": "code",
      "source": [
        "# Make predictions on the test data\n",
        "y_pred = classifier.predict(X_test_selected_scaled)\n"
      ],
      "metadata": {
        "id": "mFV09s6lvnt1"
      },
      "execution_count": null,
      "outputs": []
    },
    {
      "cell_type": "code",
      "source": [
        "    # Compute confusion matrix\n",
        "    cm = confusion_matrix(y_test, y_pred)\n"
      ],
      "metadata": {
        "id": "cakabKn0wjep"
      },
      "execution_count": null,
      "outputs": []
    },
    {
      "cell_type": "code",
      "source": [
        "# Compute accuracy\n",
        "accuracy = accuracy_score(y_test, y_pred)\n",
        "print(f'{name} - Accuracy: {accuracy:.4f}')\n"
      ],
      "metadata": {
        "colab": {
          "base_uri": "https://localhost:8080/"
        },
        "id": "KqUTQEVfxKlH",
        "outputId": "4ca9f3a0-dfd3-4457-abff-3eabc0f672dc"
      },
      "execution_count": null,
      "outputs": [
        {
          "output_type": "stream",
          "name": "stdout",
          "text": [
            "Bagging - Accuracy: 0.8667\n"
          ]
        }
      ]
    },
    {
      "cell_type": "code",
      "source": [
        "# Compute and print classification report\n",
        "print(f'{name} - Classification Report:\\n{classification_report(y_test, y_pred)}')\n"
      ],
      "metadata": {
        "colab": {
          "base_uri": "https://localhost:8080/"
        },
        "id": "oTgZ5QZ1xfh2",
        "outputId": "b80378af-8557-4fbb-a9d5-398753fde6b7"
      },
      "execution_count": null,
      "outputs": [
        {
          "output_type": "stream",
          "name": "stdout",
          "text": [
            "Bagging - Classification Report:\n",
            "              precision    recall  f1-score   support\n",
            "\n",
            "          D1       0.80      1.00      0.89         4\n",
            "          D2       1.00      1.00      1.00         2\n",
            "          D3       1.00      0.50      0.67         4\n",
            "          D4       0.83      1.00      0.91         5\n",
            "\n",
            "    accuracy                           0.87        15\n",
            "   macro avg       0.91      0.88      0.87        15\n",
            "weighted avg       0.89      0.87      0.85        15\n",
            "\n"
          ]
        }
      ]
    },
    {
      "cell_type": "code",
      "source": [
        "# Plot heatmap for confusion matrix\n",
        "plt.figure(figsize=(8, 6))\n",
        "sns.heatmap(cm, annot=True, fmt='d', cmap='Blues', xticklabels=classifier.classes_, yticklabels=classifier.classes_)\n",
        "plt.xlabel('Predicted Label')\n",
        "plt.ylabel('True Label')\n",
        "plt.title(f'Confusion Matrix - {name}')\n",
        "plt.show()\n",
        "\n"
      ],
      "metadata": {
        "colab": {
          "base_uri": "https://localhost:8080/",
          "height": 564
        },
        "id": "xHSilh_bvuv2",
        "outputId": "34090925-2277-4b36-e412-56c901d3ee26"
      },
      "execution_count": null,
      "outputs": [
        {
          "output_type": "display_data",
          "data": {
            "text/plain": [
              "<Figure size 800x600 with 2 Axes>"
            ],
            "image/png": "[encoded data removed]"
          },
          "metadata": {}
        }
      ]
    },
    {
      "cell_type": "code",
      "source": [
        "# Train and evaluate each classifier\n",
        "for name, classifier in classifiers.items():\n",
        "    # Train the classifier\n",
        "    classifier.fit(X_train_selected_scaled, y_train)\n",
        "\n",
        "    # Make predictions on the test data\n",
        "    y_pred = classifier.predict(X_test_selected_scaled)\n",
        "\n",
        "    # Compute accuracy\n",
        "    accuracy = accuracy_score(y_test, y_pred)\n",
        "    print(f'{name} - Accuracy: {accuracy:.4f}')\n"
      ],
      "metadata": {
        "colab": {
          "base_uri": "https://localhost:8080/"
        },
        "id": "BiCJyIHjvGBv",
        "outputId": "dfec8d1a-0f2d-4d4d-9954-22bf7d69da7d"
      },
      "execution_count": null,
      "outputs": [
        {
          "output_type": "stream",
          "name": "stdout",
          "text": [
            "Decision Tree - Accuracy: 0.8667\n",
            "K-Nearest Neighbors - Accuracy: 0.9333\n",
            "Logistic Regression - Accuracy: 0.9333\n",
            "AdaBoost - Accuracy: 0.9333\n",
            "Bagging - Accuracy: 0.8667\n"
          ]
        }
      ]
    }
  ]
}